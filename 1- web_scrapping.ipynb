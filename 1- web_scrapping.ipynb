{
 "cells": [
  {
   "cell_type": "code",
   "execution_count": 1,
   "id": "87a5b73d",
   "metadata": {},
   "outputs": [],
   "source": [
    "from selenium import webdriver\n",
    "from selenium.webdriver.common.keys import Keys\n",
    "from selenium.webdriver.common.by import By"
   ]
  },
  {
   "cell_type": "code",
   "execution_count": 2,
   "id": "98f92edb",
   "metadata": {},
   "outputs": [
    {
     "name": "stdout",
     "output_type": "stream",
     "text": [
      "Requirement already satisfied: joblib in c:\\users\\pichau\\anaconda3\\lib\\site-packages (1.1.0)\n",
      "Note: you may need to restart the kernel to use updated packages.\n"
     ]
    }
   ],
   "source": [
    "pip install joblib"
   ]
  },
  {
   "cell_type": "code",
   "execution_count": 3,
   "id": "e9500ad4",
   "metadata": {},
   "outputs": [],
   "source": [
    "driver = webdriver.Chrome()"
   ]
  },
  {
   "cell_type": "code",
   "execution_count": 4,
   "id": "8d2d4575",
   "metadata": {},
   "outputs": [],
   "source": [
    "driver.get('https://cidadao.tce.mt.gov.br/home/limitesLrf')"
   ]
  },
  {
   "cell_type": "code",
   "execution_count": 5,
   "id": "7e944501",
   "metadata": {},
   "outputs": [
    {
     "data": {
      "text/plain": [
       "<selenium.webdriver.remote.webelement.WebElement (session=\"f4ffa7b1057a60f1a1cd178d03c8808c\", element=\"87666994-617a-4a5f-870b-8ed15ab10666\")>"
      ]
     },
     "execution_count": 5,
     "metadata": {},
     "output_type": "execute_result"
    }
   ],
   "source": [
    "cod_municipio = driver.find_element(By.ID, 'cod_municipio')\n",
    "cod_municipio"
   ]
  },
  {
   "cell_type": "code",
   "execution_count": 6,
   "id": "b8cdacb6",
   "metadata": {},
   "outputs": [],
   "source": [
    "cod_municipio.click()"
   ]
  },
  {
   "cell_type": "code",
   "execution_count": 7,
   "id": "35c0bdbe",
   "metadata": {},
   "outputs": [
    {
     "data": {
      "text/plain": [
       "[<selenium.webdriver.remote.webelement.WebElement (session=\"f4ffa7b1057a60f1a1cd178d03c8808c\", element=\"459f3488-8ee5-401b-ad6e-f3608340b1be\")>,\n",
       " <selenium.webdriver.remote.webelement.WebElement (session=\"f4ffa7b1057a60f1a1cd178d03c8808c\", element=\"b34a1725-a09f-4347-bbd9-a6c77c5f7f2f\")>,\n",
       " <selenium.webdriver.remote.webelement.WebElement (session=\"f4ffa7b1057a60f1a1cd178d03c8808c\", element=\"ba56288f-699f-4874-b30e-7283ba06efdc\")>,\n",
       " <selenium.webdriver.remote.webelement.WebElement (session=\"f4ffa7b1057a60f1a1cd178d03c8808c\", element=\"fb9f021a-101b-4cf1-97cf-e257f79f2698\")>,\n",
       " <selenium.webdriver.remote.webelement.WebElement (session=\"f4ffa7b1057a60f1a1cd178d03c8808c\", element=\"cddefb66-20b8-43eb-a4f5-cce7cbcc5fcb\")>,\n",
       " <selenium.webdriver.remote.webelement.WebElement (session=\"f4ffa7b1057a60f1a1cd178d03c8808c\", element=\"fb24532c-02ea-486b-8112-c43d2aed83bd\")>,\n",
       " <selenium.webdriver.remote.webelement.WebElement (session=\"f4ffa7b1057a60f1a1cd178d03c8808c\", element=\"6de0b0c5-921b-4ab9-a359-f6942862a382\")>,\n",
       " <selenium.webdriver.remote.webelement.WebElement (session=\"f4ffa7b1057a60f1a1cd178d03c8808c\", element=\"2ebf8c19-7076-40cb-af4b-351d8abe7284\")>,\n",
       " <selenium.webdriver.remote.webelement.WebElement (session=\"f4ffa7b1057a60f1a1cd178d03c8808c\", element=\"4b6d9bcc-503d-4f12-953f-f9e13e846962\")>,\n",
       " <selenium.webdriver.remote.webelement.WebElement (session=\"f4ffa7b1057a60f1a1cd178d03c8808c\", element=\"62cfec62-278e-47f9-a916-9d3be9c83f88\")>,\n",
       " <selenium.webdriver.remote.webelement.WebElement (session=\"f4ffa7b1057a60f1a1cd178d03c8808c\", element=\"3ab39508-e0b4-42c4-b119-58fdc6d5326f\")>,\n",
       " <selenium.webdriver.remote.webelement.WebElement (session=\"f4ffa7b1057a60f1a1cd178d03c8808c\", element=\"e2781a9b-68ab-4084-8c09-a5ba92ce716d\")>,\n",
       " <selenium.webdriver.remote.webelement.WebElement (session=\"f4ffa7b1057a60f1a1cd178d03c8808c\", element=\"c7702c6a-c787-4199-8853-654aa539a2f4\")>,\n",
       " <selenium.webdriver.remote.webelement.WebElement (session=\"f4ffa7b1057a60f1a1cd178d03c8808c\", element=\"c83d4f80-3caf-4e37-8d69-0890f3052c1a\")>,\n",
       " <selenium.webdriver.remote.webelement.WebElement (session=\"f4ffa7b1057a60f1a1cd178d03c8808c\", element=\"637b5994-935c-4144-849b-b575d1f9752e\")>,\n",
       " <selenium.webdriver.remote.webelement.WebElement (session=\"f4ffa7b1057a60f1a1cd178d03c8808c\", element=\"e7094e29-fe28-48af-9e7f-37d80b521fff\")>,\n",
       " <selenium.webdriver.remote.webelement.WebElement (session=\"f4ffa7b1057a60f1a1cd178d03c8808c\", element=\"d885fed9-5134-475a-be78-ea000bd3f620\")>,\n",
       " <selenium.webdriver.remote.webelement.WebElement (session=\"f4ffa7b1057a60f1a1cd178d03c8808c\", element=\"507671e5-b6fa-49ea-ba22-8f8212ac4983\")>,\n",
       " <selenium.webdriver.remote.webelement.WebElement (session=\"f4ffa7b1057a60f1a1cd178d03c8808c\", element=\"f994a60e-25d2-45b6-ab12-9369d6eb344c\")>,\n",
       " <selenium.webdriver.remote.webelement.WebElement (session=\"f4ffa7b1057a60f1a1cd178d03c8808c\", element=\"c7a88b91-cae9-4561-b6aa-b0f5a2ceb917\")>,\n",
       " <selenium.webdriver.remote.webelement.WebElement (session=\"f4ffa7b1057a60f1a1cd178d03c8808c\", element=\"b7beac48-80ca-4f06-9d57-3de44a668cca\")>,\n",
       " <selenium.webdriver.remote.webelement.WebElement (session=\"f4ffa7b1057a60f1a1cd178d03c8808c\", element=\"d88477fd-51fa-41d2-9e10-22a28569da9f\")>,\n",
       " <selenium.webdriver.remote.webelement.WebElement (session=\"f4ffa7b1057a60f1a1cd178d03c8808c\", element=\"07ec7863-4939-43e6-93d1-a8c99731cd6e\")>,\n",
       " <selenium.webdriver.remote.webelement.WebElement (session=\"f4ffa7b1057a60f1a1cd178d03c8808c\", element=\"94c3e43b-04e9-445e-8248-e68fc7cd21fb\")>,\n",
       " <selenium.webdriver.remote.webelement.WebElement (session=\"f4ffa7b1057a60f1a1cd178d03c8808c\", element=\"b5fe9c1a-6f1d-4612-b5fd-800114bb9fc0\")>,\n",
       " <selenium.webdriver.remote.webelement.WebElement (session=\"f4ffa7b1057a60f1a1cd178d03c8808c\", element=\"2907e6a9-5fe8-4914-8aac-7d6f4dc11be5\")>,\n",
       " <selenium.webdriver.remote.webelement.WebElement (session=\"f4ffa7b1057a60f1a1cd178d03c8808c\", element=\"eb23ebda-b349-4e42-995e-3dc29a29f36c\")>,\n",
       " <selenium.webdriver.remote.webelement.WebElement (session=\"f4ffa7b1057a60f1a1cd178d03c8808c\", element=\"3be9df08-425a-42b6-91b1-358c11d354b5\")>,\n",
       " <selenium.webdriver.remote.webelement.WebElement (session=\"f4ffa7b1057a60f1a1cd178d03c8808c\", element=\"e7a97df8-4221-4485-a8a4-ef94ffeff2f6\")>,\n",
       " <selenium.webdriver.remote.webelement.WebElement (session=\"f4ffa7b1057a60f1a1cd178d03c8808c\", element=\"2e0e1917-0e80-4ca5-8129-c5613c9e831f\")>,\n",
       " <selenium.webdriver.remote.webelement.WebElement (session=\"f4ffa7b1057a60f1a1cd178d03c8808c\", element=\"495e8d29-9338-4bd5-a66d-ce3b52bfac2f\")>,\n",
       " <selenium.webdriver.remote.webelement.WebElement (session=\"f4ffa7b1057a60f1a1cd178d03c8808c\", element=\"6944df19-9fa6-4441-a8a6-e3ebeb192881\")>,\n",
       " <selenium.webdriver.remote.webelement.WebElement (session=\"f4ffa7b1057a60f1a1cd178d03c8808c\", element=\"f457f6d7-256a-4e91-8c34-c1021ee32e67\")>,\n",
       " <selenium.webdriver.remote.webelement.WebElement (session=\"f4ffa7b1057a60f1a1cd178d03c8808c\", element=\"e7d9ae11-5129-4961-97b6-cc22c9d741dc\")>,\n",
       " <selenium.webdriver.remote.webelement.WebElement (session=\"f4ffa7b1057a60f1a1cd178d03c8808c\", element=\"e2ff545e-f1f2-4385-ab4e-e3341b31dcb3\")>,\n",
       " <selenium.webdriver.remote.webelement.WebElement (session=\"f4ffa7b1057a60f1a1cd178d03c8808c\", element=\"ccdbd2c1-ec41-4478-93b3-0de5ceec7181\")>,\n",
       " <selenium.webdriver.remote.webelement.WebElement (session=\"f4ffa7b1057a60f1a1cd178d03c8808c\", element=\"4787a845-c799-46cc-97f7-03568c9b3595\")>,\n",
       " <selenium.webdriver.remote.webelement.WebElement (session=\"f4ffa7b1057a60f1a1cd178d03c8808c\", element=\"a4dbd0e0-5385-427f-b807-91d4576f2878\")>,\n",
       " <selenium.webdriver.remote.webelement.WebElement (session=\"f4ffa7b1057a60f1a1cd178d03c8808c\", element=\"0f565228-8434-470c-a046-e987b20170e0\")>,\n",
       " <selenium.webdriver.remote.webelement.WebElement (session=\"f4ffa7b1057a60f1a1cd178d03c8808c\", element=\"94ef7eec-fa8b-4aa6-9c00-006445e84275\")>,\n",
       " <selenium.webdriver.remote.webelement.WebElement (session=\"f4ffa7b1057a60f1a1cd178d03c8808c\", element=\"fe9d408b-db96-4fc1-8e39-31de78eef923\")>,\n",
       " <selenium.webdriver.remote.webelement.WebElement (session=\"f4ffa7b1057a60f1a1cd178d03c8808c\", element=\"5dea3515-6cba-41ab-a49e-fecfcf17c4eb\")>,\n",
       " <selenium.webdriver.remote.webelement.WebElement (session=\"f4ffa7b1057a60f1a1cd178d03c8808c\", element=\"164a6580-ec5b-47a4-93b4-b925ac2a893b\")>,\n",
       " <selenium.webdriver.remote.webelement.WebElement (session=\"f4ffa7b1057a60f1a1cd178d03c8808c\", element=\"ec68a8ef-a918-43ba-8d3e-6b7ce3facadd\")>,\n",
       " <selenium.webdriver.remote.webelement.WebElement (session=\"f4ffa7b1057a60f1a1cd178d03c8808c\", element=\"c28af3a3-cfde-4bd1-b6bb-fdbbdf2abd35\")>,\n",
       " <selenium.webdriver.remote.webelement.WebElement (session=\"f4ffa7b1057a60f1a1cd178d03c8808c\", element=\"3cc8844c-d3ff-4af3-83db-9d08b21abe91\")>,\n",
       " <selenium.webdriver.remote.webelement.WebElement (session=\"f4ffa7b1057a60f1a1cd178d03c8808c\", element=\"8dadd60c-c457-4a17-852e-a7aa572414fb\")>,\n",
       " <selenium.webdriver.remote.webelement.WebElement (session=\"f4ffa7b1057a60f1a1cd178d03c8808c\", element=\"ad3f74bb-697a-46ae-b9b7-f1b86f4aef60\")>,\n",
       " <selenium.webdriver.remote.webelement.WebElement (session=\"f4ffa7b1057a60f1a1cd178d03c8808c\", element=\"8c82cb99-8bec-4d11-a504-73056926ee9c\")>,\n",
       " <selenium.webdriver.remote.webelement.WebElement (session=\"f4ffa7b1057a60f1a1cd178d03c8808c\", element=\"e7765e71-cfcf-41c0-84a8-89786fe4c3da\")>,\n",
       " <selenium.webdriver.remote.webelement.WebElement (session=\"f4ffa7b1057a60f1a1cd178d03c8808c\", element=\"c8bdfeed-7096-47c8-8c33-77d32822c9b1\")>,\n",
       " <selenium.webdriver.remote.webelement.WebElement (session=\"f4ffa7b1057a60f1a1cd178d03c8808c\", element=\"f13753d8-1503-4e77-8a27-3aade5a7bd82\")>,\n",
       " <selenium.webdriver.remote.webelement.WebElement (session=\"f4ffa7b1057a60f1a1cd178d03c8808c\", element=\"3608be43-5a9e-429e-83f7-f95e71ccb1c1\")>,\n",
       " <selenium.webdriver.remote.webelement.WebElement (session=\"f4ffa7b1057a60f1a1cd178d03c8808c\", element=\"35c69fda-d439-4abd-b52f-24bdbc04ab07\")>,\n",
       " <selenium.webdriver.remote.webelement.WebElement (session=\"f4ffa7b1057a60f1a1cd178d03c8808c\", element=\"b8b34470-f1d7-4ffd-80a9-5fe825205579\")>,\n",
       " <selenium.webdriver.remote.webelement.WebElement (session=\"f4ffa7b1057a60f1a1cd178d03c8808c\", element=\"c717fda3-3cb6-4cb6-8472-855faebfe621\")>,\n",
       " <selenium.webdriver.remote.webelement.WebElement (session=\"f4ffa7b1057a60f1a1cd178d03c8808c\", element=\"953f1e49-59da-48df-8c9b-9ffe251eebb6\")>,\n",
       " <selenium.webdriver.remote.webelement.WebElement (session=\"f4ffa7b1057a60f1a1cd178d03c8808c\", element=\"a134ce44-ec0f-4fcc-95d5-d95073db48cd\")>,\n",
       " <selenium.webdriver.remote.webelement.WebElement (session=\"f4ffa7b1057a60f1a1cd178d03c8808c\", element=\"fec3c180-68fb-4f01-9354-71c63e561664\")>,\n",
       " <selenium.webdriver.remote.webelement.WebElement (session=\"f4ffa7b1057a60f1a1cd178d03c8808c\", element=\"ab07b0aa-01f5-4848-b965-8c3ecd9d5eff\")>,\n",
       " <selenium.webdriver.remote.webelement.WebElement (session=\"f4ffa7b1057a60f1a1cd178d03c8808c\", element=\"27b7e7dc-c7ea-4517-b5e1-166a694f8ed3\")>,\n",
       " <selenium.webdriver.remote.webelement.WebElement (session=\"f4ffa7b1057a60f1a1cd178d03c8808c\", element=\"e314ce59-e9d7-4906-9094-25de98c81ff0\")>,\n",
       " <selenium.webdriver.remote.webelement.WebElement (session=\"f4ffa7b1057a60f1a1cd178d03c8808c\", element=\"d3f47bf0-3f67-4093-8ac4-9b1ad76853b0\")>,\n",
       " <selenium.webdriver.remote.webelement.WebElement (session=\"f4ffa7b1057a60f1a1cd178d03c8808c\", element=\"8294cee6-7912-45fe-9242-037c32fbea68\")>,\n",
       " <selenium.webdriver.remote.webelement.WebElement (session=\"f4ffa7b1057a60f1a1cd178d03c8808c\", element=\"3c069d8e-a285-46a2-9832-3879d1d98941\")>,\n",
       " <selenium.webdriver.remote.webelement.WebElement (session=\"f4ffa7b1057a60f1a1cd178d03c8808c\", element=\"11f05d86-45ff-4856-bcab-6b92e98b55cc\")>,\n",
       " <selenium.webdriver.remote.webelement.WebElement (session=\"f4ffa7b1057a60f1a1cd178d03c8808c\", element=\"20810294-e882-4c3b-bcad-4bef000fe674\")>,\n",
       " <selenium.webdriver.remote.webelement.WebElement (session=\"f4ffa7b1057a60f1a1cd178d03c8808c\", element=\"297c006e-58f5-4e3c-a337-ff0eab1c1349\")>,\n",
       " <selenium.webdriver.remote.webelement.WebElement (session=\"f4ffa7b1057a60f1a1cd178d03c8808c\", element=\"7ee58b89-e759-4826-a232-ed2aae0afe3a\")>,\n",
       " <selenium.webdriver.remote.webelement.WebElement (session=\"f4ffa7b1057a60f1a1cd178d03c8808c\", element=\"0fee818c-f605-4137-b19f-57bab5aa88ba\")>,\n",
       " <selenium.webdriver.remote.webelement.WebElement (session=\"f4ffa7b1057a60f1a1cd178d03c8808c\", element=\"6372e793-5e32-49b9-b5eb-4ee786b221f7\")>,\n",
       " <selenium.webdriver.remote.webelement.WebElement (session=\"f4ffa7b1057a60f1a1cd178d03c8808c\", element=\"e44cc324-deef-4e7c-8c6b-cccdc4fa2089\")>,\n",
       " <selenium.webdriver.remote.webelement.WebElement (session=\"f4ffa7b1057a60f1a1cd178d03c8808c\", element=\"c88109e5-f655-45ca-a81b-ae2723629ccd\")>,\n",
       " <selenium.webdriver.remote.webelement.WebElement (session=\"f4ffa7b1057a60f1a1cd178d03c8808c\", element=\"47da75f6-4e74-45d2-ac32-91309eec1847\")>,\n",
       " <selenium.webdriver.remote.webelement.WebElement (session=\"f4ffa7b1057a60f1a1cd178d03c8808c\", element=\"051de088-835a-43a0-9d4b-64bff2070bc9\")>,\n",
       " <selenium.webdriver.remote.webelement.WebElement (session=\"f4ffa7b1057a60f1a1cd178d03c8808c\", element=\"63172d2a-8eb3-4ef7-a3c3-e7ae0f942ef0\")>,\n",
       " <selenium.webdriver.remote.webelement.WebElement (session=\"f4ffa7b1057a60f1a1cd178d03c8808c\", element=\"999e5eb3-52a0-4029-8cd7-0f44a7484a53\")>,\n",
       " <selenium.webdriver.remote.webelement.WebElement (session=\"f4ffa7b1057a60f1a1cd178d03c8808c\", element=\"4de7b914-c44f-4cb0-988f-d75ddaebce38\")>,\n",
       " <selenium.webdriver.remote.webelement.WebElement (session=\"f4ffa7b1057a60f1a1cd178d03c8808c\", element=\"0d0be583-b30d-41cc-8087-15ad76a2a42e\")>,\n",
       " <selenium.webdriver.remote.webelement.WebElement (session=\"f4ffa7b1057a60f1a1cd178d03c8808c\", element=\"a5f6b3d8-0f52-4fd6-9df6-20f501175a69\")>,\n",
       " <selenium.webdriver.remote.webelement.WebElement (session=\"f4ffa7b1057a60f1a1cd178d03c8808c\", element=\"44ec7960-5a91-4540-95dd-9aeaed01f923\")>,\n",
       " <selenium.webdriver.remote.webelement.WebElement (session=\"f4ffa7b1057a60f1a1cd178d03c8808c\", element=\"abc374a8-e19b-41e5-8555-0c212bbafac1\")>,\n",
       " <selenium.webdriver.remote.webelement.WebElement (session=\"f4ffa7b1057a60f1a1cd178d03c8808c\", element=\"05b84322-8791-4958-b473-c899ae74dc48\")>,\n",
       " <selenium.webdriver.remote.webelement.WebElement (session=\"f4ffa7b1057a60f1a1cd178d03c8808c\", element=\"d923c4f6-9679-4c52-9e16-cfae265654f9\")>,\n",
       " <selenium.webdriver.remote.webelement.WebElement (session=\"f4ffa7b1057a60f1a1cd178d03c8808c\", element=\"9ef5c9ed-7b0a-413a-a400-de0cb896a734\")>,\n",
       " <selenium.webdriver.remote.webelement.WebElement (session=\"f4ffa7b1057a60f1a1cd178d03c8808c\", element=\"0f6ab980-da74-4e45-9a91-4113aef2086e\")>,\n",
       " <selenium.webdriver.remote.webelement.WebElement (session=\"f4ffa7b1057a60f1a1cd178d03c8808c\", element=\"dc43b400-7b1d-446b-9022-f84d47269c06\")>,\n",
       " <selenium.webdriver.remote.webelement.WebElement (session=\"f4ffa7b1057a60f1a1cd178d03c8808c\", element=\"8c1c60fa-738a-41e3-add0-56ba9d83ccf0\")>,\n",
       " <selenium.webdriver.remote.webelement.WebElement (session=\"f4ffa7b1057a60f1a1cd178d03c8808c\", element=\"68accb93-5cd9-4f63-bec6-607c8eef5640\")>,\n",
       " <selenium.webdriver.remote.webelement.WebElement (session=\"f4ffa7b1057a60f1a1cd178d03c8808c\", element=\"7e22f2ac-6a91-4d9f-8d5c-0ab3a85ad10c\")>,\n",
       " <selenium.webdriver.remote.webelement.WebElement (session=\"f4ffa7b1057a60f1a1cd178d03c8808c\", element=\"040674d7-78f3-42a0-a200-603295d10858\")>,\n",
       " <selenium.webdriver.remote.webelement.WebElement (session=\"f4ffa7b1057a60f1a1cd178d03c8808c\", element=\"d790ab90-01aa-422c-ab64-6f3e963688d2\")>,\n",
       " <selenium.webdriver.remote.webelement.WebElement (session=\"f4ffa7b1057a60f1a1cd178d03c8808c\", element=\"e286e01f-f9f2-4090-8ffb-738083cf7516\")>,\n",
       " <selenium.webdriver.remote.webelement.WebElement (session=\"f4ffa7b1057a60f1a1cd178d03c8808c\", element=\"3beadd2f-dc23-403d-a409-8381cf26dc10\")>,\n",
       " <selenium.webdriver.remote.webelement.WebElement (session=\"f4ffa7b1057a60f1a1cd178d03c8808c\", element=\"6436cd61-18e4-48f6-9539-9888d5548962\")>,\n",
       " <selenium.webdriver.remote.webelement.WebElement (session=\"f4ffa7b1057a60f1a1cd178d03c8808c\", element=\"e4eeeaf0-87e9-442f-9c18-269f9ea5aa30\")>,\n",
       " <selenium.webdriver.remote.webelement.WebElement (session=\"f4ffa7b1057a60f1a1cd178d03c8808c\", element=\"b58bd6f3-4b5d-47e6-94d7-a71e2b82ed6a\")>,\n",
       " <selenium.webdriver.remote.webelement.WebElement (session=\"f4ffa7b1057a60f1a1cd178d03c8808c\", element=\"d170698d-7750-433f-8f24-a88e845f300e\")>,\n",
       " <selenium.webdriver.remote.webelement.WebElement (session=\"f4ffa7b1057a60f1a1cd178d03c8808c\", element=\"cc966793-9edb-456d-ba41-555c256c1811\")>,\n",
       " <selenium.webdriver.remote.webelement.WebElement (session=\"f4ffa7b1057a60f1a1cd178d03c8808c\", element=\"008071b5-0dff-44f5-9f9f-0e7b1f3bcc6c\")>,\n",
       " <selenium.webdriver.remote.webelement.WebElement (session=\"f4ffa7b1057a60f1a1cd178d03c8808c\", element=\"8c0bf7f8-2c9e-4712-a1b4-2688caffd455\")>,\n",
       " <selenium.webdriver.remote.webelement.WebElement (session=\"f4ffa7b1057a60f1a1cd178d03c8808c\", element=\"06857f43-946b-4de3-840b-819ddb61adbd\")>,\n",
       " <selenium.webdriver.remote.webelement.WebElement (session=\"f4ffa7b1057a60f1a1cd178d03c8808c\", element=\"63f06a4f-089c-44b1-9193-0cb671fe28f0\")>,\n",
       " <selenium.webdriver.remote.webelement.WebElement (session=\"f4ffa7b1057a60f1a1cd178d03c8808c\", element=\"d8726428-c91d-492c-954c-8f9dd04f2769\")>,\n",
       " <selenium.webdriver.remote.webelement.WebElement (session=\"f4ffa7b1057a60f1a1cd178d03c8808c\", element=\"218dc8ad-589a-4d21-b981-b6bba6caabdc\")>,\n",
       " <selenium.webdriver.remote.webelement.WebElement (session=\"f4ffa7b1057a60f1a1cd178d03c8808c\", element=\"65b0443f-44c9-426d-8e81-429b33716230\")>,\n",
       " <selenium.webdriver.remote.webelement.WebElement (session=\"f4ffa7b1057a60f1a1cd178d03c8808c\", element=\"b8503827-9648-4131-a80c-0e644b4d9899\")>,\n",
       " <selenium.webdriver.remote.webelement.WebElement (session=\"f4ffa7b1057a60f1a1cd178d03c8808c\", element=\"2f1b8ebf-61bf-48bf-a7f1-80c5f49f6ae2\")>,\n",
       " <selenium.webdriver.remote.webelement.WebElement (session=\"f4ffa7b1057a60f1a1cd178d03c8808c\", element=\"b3293db4-8adc-4304-b964-436fdd4fc40d\")>,\n",
       " <selenium.webdriver.remote.webelement.WebElement (session=\"f4ffa7b1057a60f1a1cd178d03c8808c\", element=\"d9836a43-10d1-4076-9751-4e1ab26586d8\")>,\n",
       " <selenium.webdriver.remote.webelement.WebElement (session=\"f4ffa7b1057a60f1a1cd178d03c8808c\", element=\"a8e2e5f6-b817-4ab7-9f06-38a739bc622e\")>,\n",
       " <selenium.webdriver.remote.webelement.WebElement (session=\"f4ffa7b1057a60f1a1cd178d03c8808c\", element=\"0c850028-4883-423e-ab95-04c3690b4cd7\")>,\n",
       " <selenium.webdriver.remote.webelement.WebElement (session=\"f4ffa7b1057a60f1a1cd178d03c8808c\", element=\"29d0ace8-5e7a-4173-a023-1d161b09e7cc\")>,\n",
       " <selenium.webdriver.remote.webelement.WebElement (session=\"f4ffa7b1057a60f1a1cd178d03c8808c\", element=\"0df01e22-9f62-43e4-8ee4-725ec10abfda\")>,\n",
       " <selenium.webdriver.remote.webelement.WebElement (session=\"f4ffa7b1057a60f1a1cd178d03c8808c\", element=\"aaee5bcb-f7c4-4451-b45c-c2f6089c619c\")>,\n",
       " <selenium.webdriver.remote.webelement.WebElement (session=\"f4ffa7b1057a60f1a1cd178d03c8808c\", element=\"6fb22c31-3cef-4a44-bca6-42dbae9e6cd3\")>,\n",
       " <selenium.webdriver.remote.webelement.WebElement (session=\"f4ffa7b1057a60f1a1cd178d03c8808c\", element=\"cda1d063-b331-462e-8a18-8a325306c276\")>,\n",
       " <selenium.webdriver.remote.webelement.WebElement (session=\"f4ffa7b1057a60f1a1cd178d03c8808c\", element=\"319827d0-c887-4445-9079-af4fb29503b0\")>,\n",
       " <selenium.webdriver.remote.webelement.WebElement (session=\"f4ffa7b1057a60f1a1cd178d03c8808c\", element=\"f1264364-2517-45ed-83c7-58519ebb551a\")>,\n",
       " <selenium.webdriver.remote.webelement.WebElement (session=\"f4ffa7b1057a60f1a1cd178d03c8808c\", element=\"0ac2cf1b-ce36-4719-b2b8-79525e73971d\")>,\n",
       " <selenium.webdriver.remote.webelement.WebElement (session=\"f4ffa7b1057a60f1a1cd178d03c8808c\", element=\"c8bd2997-27bc-402c-92c3-2c54dd091e6a\")>,\n",
       " <selenium.webdriver.remote.webelement.WebElement (session=\"f4ffa7b1057a60f1a1cd178d03c8808c\", element=\"0d2a3a7b-2d2d-4f85-917a-d0d108cb9e02\")>,\n",
       " <selenium.webdriver.remote.webelement.WebElement (session=\"f4ffa7b1057a60f1a1cd178d03c8808c\", element=\"93f7edaa-5080-4be3-8ddb-acf0d075f93c\")>,\n",
       " <selenium.webdriver.remote.webelement.WebElement (session=\"f4ffa7b1057a60f1a1cd178d03c8808c\", element=\"673375d8-95c5-48d5-bf81-0f35d3cf9059\")>,\n",
       " <selenium.webdriver.remote.webelement.WebElement (session=\"f4ffa7b1057a60f1a1cd178d03c8808c\", element=\"0d9980fd-ac7f-48ae-8796-32d8706f6a25\")>,\n",
       " <selenium.webdriver.remote.webelement.WebElement (session=\"f4ffa7b1057a60f1a1cd178d03c8808c\", element=\"06f3456d-7d6d-473d-acde-df0adfa3cf20\")>,\n",
       " <selenium.webdriver.remote.webelement.WebElement (session=\"f4ffa7b1057a60f1a1cd178d03c8808c\", element=\"3c8f8af7-9754-4253-9d66-99605981002e\")>,\n",
       " <selenium.webdriver.remote.webelement.WebElement (session=\"f4ffa7b1057a60f1a1cd178d03c8808c\", element=\"839a956a-b59e-49ee-9871-a1a652e3b4af\")>,\n",
       " <selenium.webdriver.remote.webelement.WebElement (session=\"f4ffa7b1057a60f1a1cd178d03c8808c\", element=\"452c17c5-1428-4df5-a855-763c05676df5\")>,\n",
       " <selenium.webdriver.remote.webelement.WebElement (session=\"f4ffa7b1057a60f1a1cd178d03c8808c\", element=\"c8ff4173-6101-4c9f-8d62-bf201c09d100\")>,\n",
       " <selenium.webdriver.remote.webelement.WebElement (session=\"f4ffa7b1057a60f1a1cd178d03c8808c\", element=\"63f4f37f-e832-47d5-820e-fbaa6bc31ce0\")>,\n",
       " <selenium.webdriver.remote.webelement.WebElement (session=\"f4ffa7b1057a60f1a1cd178d03c8808c\", element=\"8378ab16-43ef-4463-a6ea-de59645fcc95\")>,\n",
       " <selenium.webdriver.remote.webelement.WebElement (session=\"f4ffa7b1057a60f1a1cd178d03c8808c\", element=\"fc4be12a-537c-4c27-a888-03379c844f58\")>,\n",
       " <selenium.webdriver.remote.webelement.WebElement (session=\"f4ffa7b1057a60f1a1cd178d03c8808c\", element=\"87c0d134-89fb-4600-83f2-85caef9e1070\")>,\n",
       " <selenium.webdriver.remote.webelement.WebElement (session=\"f4ffa7b1057a60f1a1cd178d03c8808c\", element=\"fe59460a-6323-4aee-b37b-3775b5f8b260\")>,\n",
       " <selenium.webdriver.remote.webelement.WebElement (session=\"f4ffa7b1057a60f1a1cd178d03c8808c\", element=\"9558e6f9-1cf9-4a02-92c2-08133bc47f5c\")>,\n",
       " <selenium.webdriver.remote.webelement.WebElement (session=\"f4ffa7b1057a60f1a1cd178d03c8808c\", element=\"4c2ef80e-2c44-402f-8fed-419bda92c313\")>,\n",
       " <selenium.webdriver.remote.webelement.WebElement (session=\"f4ffa7b1057a60f1a1cd178d03c8808c\", element=\"377b2069-d894-4a74-82c4-db994466bbf4\")>,\n",
       " <selenium.webdriver.remote.webelement.WebElement (session=\"f4ffa7b1057a60f1a1cd178d03c8808c\", element=\"aa46cdb8-2e1b-472d-890a-ee0b86f66ffc\")>,\n",
       " <selenium.webdriver.remote.webelement.WebElement (session=\"f4ffa7b1057a60f1a1cd178d03c8808c\", element=\"78d3143f-136a-4131-b686-af387d453f42\")>,\n",
       " <selenium.webdriver.remote.webelement.WebElement (session=\"f4ffa7b1057a60f1a1cd178d03c8808c\", element=\"667dccc7-f677-47d1-a73e-5bc131647920\")>,\n",
       " <selenium.webdriver.remote.webelement.WebElement (session=\"f4ffa7b1057a60f1a1cd178d03c8808c\", element=\"1559f624-66a2-427b-a20c-8f17d50d3859\")>,\n",
       " <selenium.webdriver.remote.webelement.WebElement (session=\"f4ffa7b1057a60f1a1cd178d03c8808c\", element=\"4beb6a37-fba5-4468-8cc7-4fe80aaea083\")>,\n",
       " <selenium.webdriver.remote.webelement.WebElement (session=\"f4ffa7b1057a60f1a1cd178d03c8808c\", element=\"0137eb5a-c1d9-446d-9ef9-153a4b24dbb6\")>]"
      ]
     },
     "execution_count": 7,
     "metadata": {},
     "output_type": "execute_result"
    }
   ],
   "source": [
    "options = driver.find_elements(By.TAG_NAME, 'option')\n",
    "options"
   ]
  },
  {
   "cell_type": "code",
   "execution_count": 8,
   "id": "b5e8171a",
   "metadata": {},
   "outputs": [
    {
     "data": {
      "text/plain": [
       "['',\n",
       " 'ACORIZAL',\n",
       " 'AGUA BOA',\n",
       " 'ALTA FLORESTA',\n",
       " 'ALTO ARAGUAIA',\n",
       " 'ALTO BOA VISTA',\n",
       " 'ALTO GARCAS',\n",
       " 'ALTO PARAGUAI',\n",
       " 'ALTO TAQUARI',\n",
       " 'APIACAS',\n",
       " 'ARAGARCAS',\n",
       " 'ARAGUAIANA',\n",
       " 'ARAGUAINHA',\n",
       " 'ARAPUTANGA',\n",
       " 'ARENAPOLIS',\n",
       " 'ARIPUANA',\n",
       " 'BARAO DE MELGACO',\n",
       " 'BARRA DO BUGRES',\n",
       " 'BARRA DO GARCAS',\n",
       " 'BOM JESUS DO ARAGUAIA',\n",
       " 'BRASNORTE',\n",
       " 'CACERES',\n",
       " 'CAMPINAPOLIS',\n",
       " 'CAMPO NOVO DO PARECIS',\n",
       " 'CAMPO VERDE',\n",
       " 'CAMPOS DE JULIO',\n",
       " 'CANABRAVA DO NORTE',\n",
       " 'CANARANA',\n",
       " 'CARLINDA',\n",
       " 'CASTANHEIRA',\n",
       " 'CHAPADA DOS GUIMARAES',\n",
       " 'CLAUDIA',\n",
       " 'COCALINHO',\n",
       " 'COLIDER',\n",
       " 'COLNIZA',\n",
       " 'COMODORO',\n",
       " 'CONFRESA',\n",
       " 'CONQUISTA DOESTE',\n",
       " 'COTRIGUACU',\n",
       " 'CUIABA',\n",
       " 'CURVELANDIA',\n",
       " 'DENISE',\n",
       " 'DIAMANTINO',\n",
       " 'DOM AQUINO',\n",
       " 'FELIZ NATAL',\n",
       " 'FIGUEIROPOLIS DOESTE',\n",
       " 'GAUCHA DO NORTE',\n",
       " 'GENERAL CARNEIRO',\n",
       " 'GLORIA DOESTE',\n",
       " 'GUARANTA DO NORTE',\n",
       " 'GUIRATINGA',\n",
       " 'INDIAVAI',\n",
       " 'IPIRANGA DO NORTE',\n",
       " 'ITANHANGA',\n",
       " 'ITAUBA',\n",
       " 'ITIQUIRA',\n",
       " 'JACIARA',\n",
       " 'JANGADA',\n",
       " 'JAURU',\n",
       " 'JUARA',\n",
       " 'JUINA',\n",
       " 'JURUENA',\n",
       " 'JUSCIMEIRA',\n",
       " 'LAMBARI DOESTE',\n",
       " 'LUCAS DO RIO VERDE',\n",
       " 'LUCIARA',\n",
       " 'MARCELANDIA',\n",
       " 'MATUPA',\n",
       " 'MIRASSOL DOESTE',\n",
       " 'NOBRES',\n",
       " 'NORTELANDIA',\n",
       " 'NOSSA SENHORA DO LIVRAMENTO',\n",
       " 'NOVA BANDEIRANTES',\n",
       " 'NOVA BRASILANDIA',\n",
       " 'NOVA CANAA DO NORTE',\n",
       " 'NOVA GUARITA',\n",
       " 'NOVA LACERDA',\n",
       " 'NOVA MARILANDIA',\n",
       " 'NOVA MARINGA',\n",
       " 'NOVA MONTE VERDE',\n",
       " 'NOVA MUTUM',\n",
       " 'NOVA NAZARE',\n",
       " 'NOVA OLIMPIA',\n",
       " 'NOVA SANTA HELENA',\n",
       " 'NOVA UBIRATA',\n",
       " 'NOVA XAVANTINA',\n",
       " 'NOVO HORIZONTE DO NORTE',\n",
       " 'NOVO MUNDO',\n",
       " 'NOVO SANTO ANTONIO',\n",
       " 'NOVO SAO JOAQUIM',\n",
       " 'PARANAITA',\n",
       " 'PARANATINGA',\n",
       " 'PEDRA PRETA',\n",
       " 'PEIXOTO DE AZEVEDO',\n",
       " 'PLANALTO DA SERRA',\n",
       " 'POCONE',\n",
       " 'PONTAL DO ARAGUAIA',\n",
       " 'PONTE BRANCA',\n",
       " 'PONTES E LACERDA',\n",
       " 'PORTO ALEGRE DO NORTE',\n",
       " 'PORTO DOS GAUCHOS',\n",
       " 'PORTO ESPERIDIAO',\n",
       " 'PORTO ESTRELA',\n",
       " 'POXOREU',\n",
       " 'PRIMAVERA DO LESTE',\n",
       " 'QUERENCIA',\n",
       " 'RESERVA DO CABACAL',\n",
       " 'RIBEIRAO CASCALHEIRA',\n",
       " 'RIBEIRAOZINHO',\n",
       " 'RIO BRANCO',\n",
       " 'RONDOLANDIA',\n",
       " 'RONDONOPOLIS',\n",
       " 'ROSARIO OESTE',\n",
       " 'SALTO DO CEU',\n",
       " 'SANTA CARMEM',\n",
       " 'SANTA CRUZ DO XINGU',\n",
       " 'SANTA RITA DO ARAGUAIA',\n",
       " 'SANTA RITA DO TRIVELATO',\n",
       " 'SANTA TEREZINHA',\n",
       " 'SANTO AFONSO',\n",
       " 'SANTO ANTONIO DO LESTE',\n",
       " 'SANTO ANTONIO DO LEVERGER',\n",
       " 'SAO FELIX DO ARAGUAIA',\n",
       " 'SAO JOSE DO POVO',\n",
       " 'SAO JOSE DO RIO CLARO',\n",
       " 'SAO JOSE DO XINGU',\n",
       " 'SAO JOSE DOS QUATRO MARCOS',\n",
       " 'SAO PEDRO DA CIPA',\n",
       " 'SAPEZAL',\n",
       " 'SERRA NOVA DOURADA',\n",
       " 'SINOP',\n",
       " 'SORRISO',\n",
       " 'TABAPORA',\n",
       " 'TANGARA DA SERRA',\n",
       " 'TAPURAH',\n",
       " 'TERRA NOVA DO NORTE',\n",
       " 'TESOURO',\n",
       " 'TORIXOREU',\n",
       " 'UNIAO DO SUL',\n",
       " 'VALE DE SAO DOMINGOS',\n",
       " 'VARZEA GRANDE',\n",
       " 'VERA',\n",
       " 'VILA BELA DA SANTISSIMA TRINDADE',\n",
       " 'VILA RICA']"
      ]
     },
     "execution_count": 8,
     "metadata": {},
     "output_type": "execute_result"
    }
   ],
   "source": [
    "[o.text for o in options]"
   ]
  },
  {
   "cell_type": "code",
   "execution_count": 12,
   "id": "cc3baf91",
   "metadata": {},
   "outputs": [
    {
     "ename": "StaleElementReferenceException",
     "evalue": "Message: stale element reference: element is not attached to the page document\n  (Session info: chrome=112.0.5615.138)\nStacktrace:\nBacktrace:\n\tGetHandleVerifier [0x002FDCE3+50899]\n\t(No symbol) [0x0028E111]\n\t(No symbol) [0x00195588]\n\t(No symbol) [0x00197EDB]\n\t(No symbol) [0x00197DB0]\n\t(No symbol) [0x00198030]\n\t(No symbol) [0x001C1E3D]\n\t(No symbol) [0x001B92ED]\n\t(No symbol) [0x001DB8FC]\n\t(No symbol) [0x001B8EC6]\n\t(No symbol) [0x001DBC54]\n\t(No symbol) [0x001EE01C]\n\t(No symbol) [0x001DB6F6]\n\t(No symbol) [0x001B7708]\n\t(No symbol) [0x001B886D]\n\tGetHandleVerifier [0x00563EAE+2566302]\n\tGetHandleVerifier [0x005992B1+2784417]\n\tGetHandleVerifier [0x0059327C+2759788]\n\tGetHandleVerifier [0x00395740+672048]\n\t(No symbol) [0x00298872]\n\t(No symbol) [0x002941C8]\n\t(No symbol) [0x002942AB]\n\t(No symbol) [0x002871B7]\n\tBaseThreadInitThunk [0x76850099+25]\n\tRtlGetAppContainerNamedObjectPath [0x772C7B6E+286]\n\tRtlGetAppContainerNamedObjectPath [0x772C7B3E+238]\n\t(No symbol) [0x00000000]\n",
     "output_type": "error",
     "traceback": [
      "\u001b[1;31m---------------------------------------------------------------------------\u001b[0m",
      "\u001b[1;31mStaleElementReferenceException\u001b[0m            Traceback (most recent call last)",
      "Input \u001b[1;32mIn [12]\u001b[0m, in \u001b[0;36m<cell line: 1>\u001b[1;34m()\u001b[0m\n\u001b[1;32m----> 1\u001b[0m \u001b[43moptions\u001b[49m\u001b[43m[\u001b[49m\u001b[38;5;241;43m1\u001b[39;49m\u001b[43m]\u001b[49m\u001b[38;5;241;43m.\u001b[39;49m\u001b[43mclick\u001b[49m\u001b[43m(\u001b[49m\u001b[43m)\u001b[49m\n",
      "File \u001b[1;32m~\\anaconda3\\lib\\site-packages\\selenium\\webdriver\\remote\\webelement.py:94\u001b[0m, in \u001b[0;36mWebElement.click\u001b[1;34m(self)\u001b[0m\n\u001b[0;32m     92\u001b[0m \u001b[38;5;28;01mdef\u001b[39;00m \u001b[38;5;21mclick\u001b[39m(\u001b[38;5;28mself\u001b[39m) \u001b[38;5;241m-\u001b[39m\u001b[38;5;241m>\u001b[39m \u001b[38;5;28;01mNone\u001b[39;00m:\n\u001b[0;32m     93\u001b[0m     \u001b[38;5;124;03m\"\"\"Clicks the element.\"\"\"\u001b[39;00m\n\u001b[1;32m---> 94\u001b[0m     \u001b[38;5;28;43mself\u001b[39;49m\u001b[38;5;241;43m.\u001b[39;49m\u001b[43m_execute\u001b[49m\u001b[43m(\u001b[49m\u001b[43mCommand\u001b[49m\u001b[38;5;241;43m.\u001b[39;49m\u001b[43mCLICK_ELEMENT\u001b[49m\u001b[43m)\u001b[49m\n",
      "File \u001b[1;32m~\\anaconda3\\lib\\site-packages\\selenium\\webdriver\\remote\\webelement.py:404\u001b[0m, in \u001b[0;36mWebElement._execute\u001b[1;34m(self, command, params)\u001b[0m\n\u001b[0;32m    402\u001b[0m     params \u001b[38;5;241m=\u001b[39m {}\n\u001b[0;32m    403\u001b[0m params[\u001b[38;5;124m\"\u001b[39m\u001b[38;5;124mid\u001b[39m\u001b[38;5;124m\"\u001b[39m] \u001b[38;5;241m=\u001b[39m \u001b[38;5;28mself\u001b[39m\u001b[38;5;241m.\u001b[39m_id\n\u001b[1;32m--> 404\u001b[0m \u001b[38;5;28;01mreturn\u001b[39;00m \u001b[38;5;28;43mself\u001b[39;49m\u001b[38;5;241;43m.\u001b[39;49m\u001b[43m_parent\u001b[49m\u001b[38;5;241;43m.\u001b[39;49m\u001b[43mexecute\u001b[49m\u001b[43m(\u001b[49m\u001b[43mcommand\u001b[49m\u001b[43m,\u001b[49m\u001b[43m \u001b[49m\u001b[43mparams\u001b[49m\u001b[43m)\u001b[49m\n",
      "File \u001b[1;32m~\\anaconda3\\lib\\site-packages\\selenium\\webdriver\\remote\\webdriver.py:440\u001b[0m, in \u001b[0;36mWebDriver.execute\u001b[1;34m(self, driver_command, params)\u001b[0m\n\u001b[0;32m    438\u001b[0m response \u001b[38;5;241m=\u001b[39m \u001b[38;5;28mself\u001b[39m\u001b[38;5;241m.\u001b[39mcommand_executor\u001b[38;5;241m.\u001b[39mexecute(driver_command, params)\n\u001b[0;32m    439\u001b[0m \u001b[38;5;28;01mif\u001b[39;00m response:\n\u001b[1;32m--> 440\u001b[0m     \u001b[38;5;28;43mself\u001b[39;49m\u001b[38;5;241;43m.\u001b[39;49m\u001b[43merror_handler\u001b[49m\u001b[38;5;241;43m.\u001b[39;49m\u001b[43mcheck_response\u001b[49m\u001b[43m(\u001b[49m\u001b[43mresponse\u001b[49m\u001b[43m)\u001b[49m\n\u001b[0;32m    441\u001b[0m     response[\u001b[38;5;124m\"\u001b[39m\u001b[38;5;124mvalue\u001b[39m\u001b[38;5;124m\"\u001b[39m] \u001b[38;5;241m=\u001b[39m \u001b[38;5;28mself\u001b[39m\u001b[38;5;241m.\u001b[39m_unwrap_value(response\u001b[38;5;241m.\u001b[39mget(\u001b[38;5;124m\"\u001b[39m\u001b[38;5;124mvalue\u001b[39m\u001b[38;5;124m\"\u001b[39m, \u001b[38;5;28;01mNone\u001b[39;00m))\n\u001b[0;32m    442\u001b[0m     \u001b[38;5;28;01mreturn\u001b[39;00m response\n",
      "File \u001b[1;32m~\\anaconda3\\lib\\site-packages\\selenium\\webdriver\\remote\\errorhandler.py:245\u001b[0m, in \u001b[0;36mErrorHandler.check_response\u001b[1;34m(self, response)\u001b[0m\n\u001b[0;32m    243\u001b[0m         alert_text \u001b[38;5;241m=\u001b[39m value[\u001b[38;5;124m\"\u001b[39m\u001b[38;5;124malert\u001b[39m\u001b[38;5;124m\"\u001b[39m]\u001b[38;5;241m.\u001b[39mget(\u001b[38;5;124m\"\u001b[39m\u001b[38;5;124mtext\u001b[39m\u001b[38;5;124m\"\u001b[39m)\n\u001b[0;32m    244\u001b[0m     \u001b[38;5;28;01mraise\u001b[39;00m exception_class(message, screen, stacktrace, alert_text)  \u001b[38;5;66;03m# type: ignore[call-arg]  # mypy is not smart enough here\u001b[39;00m\n\u001b[1;32m--> 245\u001b[0m \u001b[38;5;28;01mraise\u001b[39;00m exception_class(message, screen, stacktrace)\n",
      "\u001b[1;31mStaleElementReferenceException\u001b[0m: Message: stale element reference: element is not attached to the page document\n  (Session info: chrome=112.0.5615.138)\nStacktrace:\nBacktrace:\n\tGetHandleVerifier [0x002FDCE3+50899]\n\t(No symbol) [0x0028E111]\n\t(No symbol) [0x00195588]\n\t(No symbol) [0x00197EDB]\n\t(No symbol) [0x00197DB0]\n\t(No symbol) [0x00198030]\n\t(No symbol) [0x001C1E3D]\n\t(No symbol) [0x001B92ED]\n\t(No symbol) [0x001DB8FC]\n\t(No symbol) [0x001B8EC6]\n\t(No symbol) [0x001DBC54]\n\t(No symbol) [0x001EE01C]\n\t(No symbol) [0x001DB6F6]\n\t(No symbol) [0x001B7708]\n\t(No symbol) [0x001B886D]\n\tGetHandleVerifier [0x00563EAE+2566302]\n\tGetHandleVerifier [0x005992B1+2784417]\n\tGetHandleVerifier [0x0059327C+2759788]\n\tGetHandleVerifier [0x00395740+672048]\n\t(No symbol) [0x00298872]\n\t(No symbol) [0x002941C8]\n\t(No symbol) [0x002942AB]\n\t(No symbol) [0x002871B7]\n\tBaseThreadInitThunk [0x76850099+25]\n\tRtlGetAppContainerNamedObjectPath [0x772C7B6E+286]\n\tRtlGetAppContainerNamedObjectPath [0x772C7B3E+238]\n\t(No symbol) [0x00000000]\n"
     ]
    }
   ],
   "source": [
    "options[1].click()"
   ]
  },
  {
   "cell_type": "code",
   "execution_count": 13,
   "id": "49f51c9e",
   "metadata": {},
   "outputs": [],
   "source": [
    "options = driver.find_elements(By.TAG_NAME, 'option')"
   ]
  },
  {
   "cell_type": "code",
   "execution_count": 14,
   "id": "edf15639",
   "metadata": {},
   "outputs": [
    {
     "data": {
      "text/plain": [
       "[<selenium.webdriver.remote.webelement.WebElement (session=\"f4ffa7b1057a60f1a1cd178d03c8808c\", element=\"2da3b9a6-dda2-4e31-82a9-0f55935324f6\")>]"
      ]
     },
     "execution_count": 14,
     "metadata": {},
     "output_type": "execute_result"
    }
   ],
   "source": [
    "option_2020 = [o for o in options if o.text == '2020']\n",
    "option_2020"
   ]
  },
  {
   "cell_type": "code",
   "execution_count": 15,
   "id": "c1d6d644",
   "metadata": {},
   "outputs": [],
   "source": [
    "option_2020[0].click()"
   ]
  },
  {
   "cell_type": "code",
   "execution_count": 32,
   "id": "10f7a7fa",
   "metadata": {},
   "outputs": [],
   "source": [
    "options = driver.find_elements(By.TAG_NAME,'option')"
   ]
  },
  {
   "cell_type": "code",
   "execution_count": 33,
   "id": "817e8204",
   "metadata": {},
   "outputs": [],
   "source": [
    "option_3q = [o for o in options if o.text == '3º Quadrimestre']"
   ]
  },
  {
   "cell_type": "code",
   "execution_count": 34,
   "id": "81861733",
   "metadata": {},
   "outputs": [
    {
     "data": {
      "text/plain": [
       "[<selenium.webdriver.remote.webelement.WebElement (session=\"f4ffa7b1057a60f1a1cd178d03c8808c\", element=\"217a32b7-1632-483b-8da3-f40a6cd5078e\")>]"
      ]
     },
     "execution_count": 34,
     "metadata": {},
     "output_type": "execute_result"
    }
   ],
   "source": [
    "option_3q"
   ]
  },
  {
   "cell_type": "code",
   "execution_count": 35,
   "id": "54314872",
   "metadata": {},
   "outputs": [],
   "source": [
    "option_3q[0].click()"
   ]
  },
  {
   "cell_type": "code",
   "execution_count": 36,
   "id": "cf6e4d73",
   "metadata": {},
   "outputs": [],
   "source": [
    "driver.find_element(By.ID, 'listar').click()"
   ]
  },
  {
   "cell_type": "code",
   "execution_count": 37,
   "id": "03a01379",
   "metadata": {},
   "outputs": [],
   "source": [
    "import pandas as pd"
   ]
  },
  {
   "cell_type": "code",
   "execution_count": 38,
   "id": "faa9ce61",
   "metadata": {},
   "outputs": [],
   "source": [
    "tabelas = driver.find_element(By.ID, 'div-tabela-pessoal')"
   ]
  },
  {
   "cell_type": "code",
   "execution_count": 39,
   "id": "aadaf7e9",
   "metadata": {},
   "outputs": [],
   "source": [
    "data = tabelas.get_attribute('innerHTML')"
   ]
  },
  {
   "cell_type": "code",
   "execution_count": 40,
   "id": "b83828d4",
   "metadata": {},
   "outputs": [],
   "source": [
    "dfs = pd.read_html(data, thousands='.', decimal='.', index_col=0)"
   ]
  },
  {
   "cell_type": "code",
   "execution_count": 45,
   "id": "fe332b66",
   "metadata": {},
   "outputs": [
    {
     "data": {
      "text/plain": [
       "['Cuiabá.h5']"
      ]
     },
     "execution_count": 45,
     "metadata": {},
     "output_type": "execute_result"
    }
   ],
   "source": [
    "import joblib\n",
    "joblib.dump(dfs, \"Cuiabá.h5\", compress=9)"
   ]
  },
  {
   "cell_type": "code",
   "execution_count": null,
   "id": "f8bb4ff5",
   "metadata": {},
   "outputs": [],
   "source": [
    "joblib.load"
   ]
  }
 ],
 "metadata": {
  "kernelspec": {
   "display_name": "Python 3 (ipykernel)",
   "language": "python",
   "name": "python3"
  },
  "language_info": {
   "codemirror_mode": {
    "name": "ipython",
    "version": 3
   },
   "file_extension": ".py",
   "mimetype": "text/x-python",
   "name": "python",
   "nbconvert_exporter": "python",
   "pygments_lexer": "ipython3",
   "version": "3.9.12"
  }
 },
 "nbformat": 4,
 "nbformat_minor": 5
}
